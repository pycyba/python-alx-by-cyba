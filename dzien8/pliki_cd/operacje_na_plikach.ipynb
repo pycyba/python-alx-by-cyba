{
 "cells": [
  {
   "cell_type": "markdown",
   "id": "7ed873c6-d5ed-4102-8408-98a2d926b119",
   "metadata": {},
   "source": [
    "Operacje na plikach i katalogach rozumianych jako zasoby systemowe są dostępne w module `os`."
   ]
  },
  {
   "cell_type": "code",
   "execution_count": 1,
   "id": "a461fd22-47c0-40b7-b048-55523058ecd0",
   "metadata": {},
   "outputs": [],
   "source": [
    "import os"
   ]
  },
  {
   "cell_type": "code",
   "execution_count": 2,
   "id": "82f8d444-191e-475f-9c92-f7be2f473ae3",
   "metadata": {},
   "outputs": [
    {
     "data": {
      "text/plain": [
       "'posix'"
      ]
     },
     "execution_count": 2,
     "metadata": {},
     "output_type": "execute_result"
    }
   ],
   "source": [
    "os.name"
   ]
  },
  {
   "cell_type": "markdown",
   "id": "03818d93-2b28-40f8-b332-dc8aef2aaca2",
   "metadata": {},
   "source": [
    "Tworzenie katalogu z poziomu Pythona (a nie Jupytera)"
   ]
  },
  {
   "cell_type": "code",
   "execution_count": 3,
   "id": "57b821eb-0517-4a8d-9c54-7cae83ece930",
   "metadata": {},
   "outputs": [
    {
     "name": "stdout",
     "output_type": "stream",
     "text": [
      "Katalog już istnieje\n"
     ]
    }
   ],
   "source": [
    "try:\n",
    "    os.mkdir('pliki')\n",
    "    print('Katalog utworzony')\n",
    "except FileExistsError:\n",
    "    print('Katalog już istnieje')"
   ]
  },
  {
   "cell_type": "code",
   "execution_count": 4,
   "id": "1f789e8f-d0bc-4664-8d62-6b0e83e89a0d",
   "metadata": {},
   "outputs": [],
   "source": [
    "#os.mkdir('/home/patryk/Pulpit/katalog')"
   ]
  },
  {
   "cell_type": "markdown",
   "id": "3e9728fe-2730-4d39-9ada-a55d365302b2",
   "metadata": {},
   "source": [
    "Zapisywanie danych tekstowych do plików.\n",
    "\n",
    "Zapis trochę przestarzały - otwieramy plik, korzystamy z niego, zamykamy jawnie wywołując `close()`.\n",
    "\n",
    "**Uwaga** otwarcie w trybie `w` kasuje dotychczasową zawartość pliku!"
   ]
  },
  {
   "cell_type": "code",
   "execution_count": 5,
   "id": "cddef7ba-63b9-4ffd-a04c-025f60134775",
   "metadata": {},
   "outputs": [],
   "source": [
    "wyjscie = open('pliki/plik1.txt', mode='w')"
   ]
  },
  {
   "cell_type": "code",
   "execution_count": 6,
   "id": "61998545-f95a-47af-9236-c9646ae94642",
   "metadata": {},
   "outputs": [
    {
     "data": {
      "text/plain": [
       "3"
      ]
     },
     "execution_count": 6,
     "metadata": {},
     "output_type": "execute_result"
    }
   ],
   "source": [
    "wyjscie.write('Ala')"
   ]
  },
  {
   "cell_type": "markdown",
   "id": "11382ebb-330c-4a54-8a6f-69b310b9ff47",
   "metadata": {},
   "source": [
    "Gdy używamy metod `write` lub `writelines`, to sami musimy zadbać o wpisywanie znaków nowej linii `\\n`"
   ]
  },
  {
   "cell_type": "code",
   "execution_count": 7,
   "id": "f27a8963-9758-4a00-a57b-1a4ac2126bea",
   "metadata": {},
   "outputs": [
    {
     "data": {
      "text/plain": [
       "9"
      ]
     },
     "execution_count": 7,
     "metadata": {},
     "output_type": "execute_result"
    }
   ],
   "source": [
    "wyjscie.write(' ma kota\\n')"
   ]
  },
  {
   "cell_type": "code",
   "execution_count": 8,
   "id": "f9abd665-1376-41dd-8fb8-f87c3661784a",
   "metadata": {},
   "outputs": [
    {
     "data": {
      "text/plain": [
       "11"
      ]
     },
     "execution_count": 8,
     "metadata": {},
     "output_type": "execute_result"
    }
   ],
   "source": [
    "wyjscie.write('Ola ma psa\\n')"
   ]
  },
  {
   "cell_type": "code",
   "execution_count": 9,
   "id": "64552a3b-c9e3-4811-9b6c-4db7da05744b",
   "metadata": {},
   "outputs": [],
   "source": [
    "lista = ['Sierotka ma rysia\\n', 'Ewa ma rybki\\n']\n",
    "wyjscie.writelines(lista)"
   ]
  },
  {
   "cell_type": "markdown",
   "id": "504b1dbf-225d-4578-b7d9-4119d42675e7",
   "metadata": {},
   "source": [
    "Drugim sposobem pisania do pliku jest użycie `print` z parametrem `file`. `print` domyślnie sam dopisuje znak nowej linii na końcu."
   ]
  },
  {
   "cell_type": "code",
   "execution_count": 10,
   "id": "01482855-c5f1-4124-9858-f03c457ad522",
   "metadata": {},
   "outputs": [],
   "source": [
    "print('Ula ma chomika', file=wyjscie)"
   ]
  },
  {
   "cell_type": "code",
   "execution_count": 11,
   "id": "f19f04e6-3608-469c-8718-8fbaa71dccd7",
   "metadata": {},
   "outputs": [],
   "source": [
    "print(2 ** 8, file=wyjscie)"
   ]
  },
  {
   "cell_type": "code",
   "execution_count": 12,
   "id": "c3818d7a-c18f-4728-b6eb-e1e21a74dfcc",
   "metadata": {},
   "outputs": [],
   "source": [
    "miasta = ['Warszawa', 'Kraków', 'Wrocław']\n",
    "print(*miasta, sep=';', file=wyjscie)"
   ]
  },
  {
   "cell_type": "code",
   "execution_count": 13,
   "id": "ba273ccb-809b-4c0f-a6db-700cd8670cd6",
   "metadata": {},
   "outputs": [],
   "source": [
    "wyjscie.close()"
   ]
  },
  {
   "cell_type": "markdown",
   "id": "48072e36-9a0b-400b-bb3c-0bf2b3807206",
   "metadata": {},
   "source": [
    "Zapis zalecany - z wykorzystaniem `with`, co gwarantuje automatyczne zamknięcie pliku."
   ]
  },
  {
   "cell_type": "code",
   "execution_count": 14,
   "id": "ab292bc1-c476-4352-8309-0634ab86381f",
   "metadata": {},
   "outputs": [],
   "source": [
    "with open('pliki/plik2.txt', mode='w') as wyjscie:\n",
    "    wyjscie.write('Ola ma psa\\n')\n",
    "    print('Ula ma chomika nr', 2 ** 8, file=wyjscie)\n",
    "# nie trzeba pisać close, a plik zamyka się, gdy wychodzimy z with"
   ]
  },
  {
   "cell_type": "markdown",
   "id": "2a310810-44ea-4645-810b-a21c72e5c21d",
   "metadata": {},
   "source": [
    "### Przykład generowania plików\n",
    "\n",
    "Wygenerujemy wiele plików w formacie CSV, które będą zawierać jednakowe kolumny, ale zróżnicowane dane w wierszach."
   ]
  },
  {
   "cell_type": "code",
   "execution_count": 15,
   "id": "118439f2-1fe4-4363-adce-3052cbcf56e5",
   "metadata": {},
   "outputs": [],
   "source": [
    "ILE_PLIKOW = 10\n",
    "ILE_LINII = 100"
   ]
  },
  {
   "cell_type": "code",
   "execution_count": 16,
   "id": "0b9f47b3-a492-4e5b-928e-faa33aae625f",
   "metadata": {},
   "outputs": [],
   "source": [
    "import random"
   ]
  },
  {
   "cell_type": "code",
   "execution_count": 17,
   "id": "c38b2056-b109-4f45-8ade-ce58f4e2249f",
   "metadata": {},
   "outputs": [
    {
     "name": "stdout",
     "output_type": "stream",
     "text": [
      "Generowanie pliku nr 1...\n",
      "Generowanie pliku nr 2...\n",
      "Generowanie pliku nr 3...\n",
      "Generowanie pliku nr 4...\n",
      "Generowanie pliku nr 5...\n",
      "Generowanie pliku nr 6...\n",
      "Generowanie pliku nr 7...\n",
      "Generowanie pliku nr 8...\n",
      "Generowanie pliku nr 9...\n",
      "Generowanie pliku nr 10...\n"
     ]
    }
   ],
   "source": [
    "lista_kolumn = ['nr', 'data', 'licznik', 'wartość']\n",
    "\n",
    "for nr_pliku in range(1, ILE_PLIKOW+1):\n",
    "    print(f'Generowanie pliku nr {nr_pliku}...')\n",
    "    with open(f'pliki/dane_{nr_pliku:03}.csv', mode='w', encoding='UTF-8') as wyjscie:\n",
    "        print(*lista_kolumn, sep=',', file=wyjscie)\n",
    "        for nr_wiersza in range(ILE_LINII):\n",
    "            print(nr_wiersza, '2020-01-02', random.randint(1, 99), round(100 * random.random(), 3), sep=',', file=wyjscie)"
   ]
  },
  {
   "cell_type": "markdown",
   "id": "c752a495-8292-400f-aa15-8bab6fbf764d",
   "metadata": {},
   "source": [
    "## Czytanie plików za pomocą `open`\n",
    "\n",
    "Samodzielna obsługa plików tekstowych – używamy głównie wtedy, gdy standardowe funkcje (np. `pandas.read_csv`) nie dadzą sobie rady.\n",
    "\n",
    "Otwieramy w trybie `r`, który jest domyślny."
   ]
  },
  {
   "cell_type": "code",
   "execution_count": 18,
   "id": "fb999dbe-03d6-45b7-9236-f7e22fd81ee0",
   "metadata": {},
   "outputs": [],
   "source": [
    "wejscie = open('pliki/plik1.txt')"
   ]
  },
  {
   "cell_type": "code",
   "execution_count": 19,
   "id": "8dc9f911-6cb9-4854-b051-b87c2e4f3112",
   "metadata": {},
   "outputs": [
    {
     "name": "stdout",
     "output_type": "stream",
     "text": [
      "<_io.TextIOWrapper name='pliki/plik1.txt' mode='r' encoding='UTF-8'>\n"
     ]
    }
   ],
   "source": [
    "print(wejscie)"
   ]
  },
  {
   "cell_type": "markdown",
   "id": "ed798eaf-e082-4742-822e-1b44512a4766",
   "metadata": {},
   "source": [
    "Metoda `read` czyta całą treść albo podaną liczbę znaków."
   ]
  },
  {
   "cell_type": "code",
   "execution_count": 20,
   "id": "4c499f8d-74b1-4e12-90d7-9dcd4e87a8ae",
   "metadata": {},
   "outputs": [],
   "source": [
    "tresc = wejscie.read()"
   ]
  },
  {
   "cell_type": "code",
   "execution_count": 21,
   "id": "bf968709-0c22-4438-9138-4ae1696ccdfc",
   "metadata": {},
   "outputs": [
    {
     "data": {
      "text/plain": [
       "'Ala ma kota\\nOla ma psa\\nSierotka ma rysia\\nEwa ma rybki\\nUla ma chomika\\n256\\nWarszawa;Kraków;Wrocław\\n'"
      ]
     },
     "execution_count": 21,
     "metadata": {},
     "output_type": "execute_result"
    }
   ],
   "source": [
    "tresc"
   ]
  },
  {
   "cell_type": "code",
   "execution_count": 22,
   "id": "f1962d2f-550c-4d7d-93a7-62a63eaee8f2",
   "metadata": {},
   "outputs": [
    {
     "name": "stdout",
     "output_type": "stream",
     "text": [
      "Ala ma kota\n",
      "Ola ma psa\n",
      "Sierotka ma rysia\n",
      "Ewa ma rybki\n",
      "Ula ma chomika\n",
      "256\n",
      "Warszawa;Kraków;Wrocław\n",
      "\n"
     ]
    }
   ],
   "source": [
    "print(tresc)"
   ]
  },
  {
   "cell_type": "markdown",
   "id": "00414dbe-459b-4e8b-b926-ffaed98a3c4e",
   "metadata": {},
   "source": [
    "Powrót na początek pliku, \"przesunięcie kursora\""
   ]
  },
  {
   "cell_type": "code",
   "execution_count": 23,
   "id": "b0ae7620-0048-4a80-9984-037b5261b04e",
   "metadata": {},
   "outputs": [
    {
     "data": {
      "text/plain": [
       "0"
      ]
     },
     "execution_count": 23,
     "metadata": {},
     "output_type": "execute_result"
    }
   ],
   "source": [
    "wejscie.seek(0)"
   ]
  },
  {
   "cell_type": "markdown",
   "id": "401a24e1-978a-4a68-a952-faaee6caafce",
   "metadata": {},
   "source": [
    "- `readline` czyta jedną linię\n",
    "- `readlines` czyta wszystkie linie, zwraca listę."
   ]
  },
  {
   "cell_type": "code",
   "execution_count": 24,
   "id": "3b1b6e99-4cae-4974-8426-a0f2c964a74e",
   "metadata": {},
   "outputs": [],
   "source": [
    "linie = wejscie.readlines()"
   ]
  },
  {
   "cell_type": "code",
   "execution_count": 25,
   "id": "a536d70e-01a3-4bb6-a26f-b94d42214952",
   "metadata": {},
   "outputs": [
    {
     "data": {
      "text/plain": [
       "['Ala ma kota\\n',\n",
       " 'Ola ma psa\\n',\n",
       " 'Sierotka ma rysia\\n',\n",
       " 'Ewa ma rybki\\n',\n",
       " 'Ula ma chomika\\n',\n",
       " '256\\n',\n",
       " 'Warszawa;Kraków;Wrocław\\n']"
      ]
     },
     "execution_count": 25,
     "metadata": {},
     "output_type": "execute_result"
    }
   ],
   "source": [
    "linie"
   ]
  },
  {
   "cell_type": "code",
   "execution_count": 26,
   "id": "6f51e195-aeda-4828-b340-013627bd80bd",
   "metadata": {},
   "outputs": [],
   "source": [
    "wejscie.close()"
   ]
  },
  {
   "cell_type": "markdown",
   "id": "78fd0721-3177-455f-95b6-4ac34ce5d684",
   "metadata": {},
   "source": [
    "### Najbardziej standardowy schemat czytania pliku tekstowego\n",
    "\n",
    "- Otwieramy plik wewnątrz `with`.\n",
    "- W środku piszemy pętlę `for`, która pobiera po kolei wszystkie linie tego pliku i dla każdej linii coś robimy.\n",
    "- Wczytywane linie zawierają w sobie znak `\\n`, możemy użyć `.rstrip()` aby się go pozbyć."
   ]
  },
  {
   "cell_type": "code",
   "execution_count": 27,
   "id": "06597179-e18f-45d7-9810-224aad9ac51e",
   "metadata": {},
   "outputs": [
    {
     "name": "stdout",
     "output_type": "stream",
     "text": [
      "Ala ma kota\n",
      "Ola ma psa\n",
      "Sierotka ma rysia\n",
      "Ewa ma rybki\n",
      "Ula ma chomika\n",
      "256\n",
      "Warszawa;Kraków;Wrocław\n"
     ]
    }
   ],
   "source": [
    "with open('pliki/plik1.txt', mode='r') as wejscie:\n",
    "    for linia in wejscie:\n",
    "        print(linia.rstrip())"
   ]
  },
  {
   "cell_type": "markdown",
   "id": "64fddaeb-931d-47ff-be7b-07c98a120c17",
   "metadata": {},
   "source": [
    "## Jak wylistować pliki w katalogu"
   ]
  },
  {
   "cell_type": "markdown",
   "id": "04cb27c8-77c4-4664-b208-600e0619125d",
   "metadata": {},
   "source": [
    "Lista plików w bieżącym katalogu. To też obejmie podkatalogi i różne pliki specjalne."
   ]
  },
  {
   "cell_type": "code",
   "execution_count": 28,
   "id": "a90e7d94-39f3-400c-bb73-f0b633872ca7",
   "metadata": {
    "scrolled": true
   },
   "outputs": [
    {
     "data": {
      "text/plain": [
       "['dzien1.ipynb',\n",
       " 'Untitled.ipynb',\n",
       " 'emps.csv',\n",
       " 'dzien2.ipynb',\n",
       " 'waluty.ipynb',\n",
       " 'waluty.html',\n",
       " 'dzien2.html',\n",
       " 'numpy_pierwsze_kroki.ipynb',\n",
       " 'numpy_pierwsze_kroki.html',\n",
       " 'numpy-pogoda.ipynb',\n",
       " 'numpy-pogoda.html',\n",
       " '.ipynb_checkpoints',\n",
       " 'pandas1_pierwsze_kroki.ipynb',\n",
       " 'pandas1_pierwsze_kroki.html',\n",
       " 'sprzedaz_groupby_pivot.ipynb',\n",
       " 'sprzedaz_groupby_pivot.html',\n",
       " 'operacje_na_plikach.ipynb',\n",
       " 'pliki']"
      ]
     },
     "execution_count": 28,
     "metadata": {},
     "output_type": "execute_result"
    }
   ],
   "source": [
    "os.listdir()"
   ]
  },
  {
   "cell_type": "markdown",
   "id": "ce4b13fa-01bc-4176-9ca9-07b5ccd1e0be",
   "metadata": {},
   "source": [
    "Lista plików we wskazanym katalogu:"
   ]
  },
  {
   "cell_type": "code",
   "execution_count": 29,
   "id": "4933f93c-179a-4691-8350-9c87229baf17",
   "metadata": {
    "scrolled": true
   },
   "outputs": [
    {
     "data": {
      "text/plain": [
       "['dane_001.csv',\n",
       " 'dane_002.csv',\n",
       " 'dane_003.csv',\n",
       " 'dane_004.csv',\n",
       " 'dane_005.csv',\n",
       " 'dane_006.csv',\n",
       " 'dane_007.csv',\n",
       " 'dane_008.csv',\n",
       " 'dane_009.csv',\n",
       " 'dane_010.csv',\n",
       " 'plik1.txt',\n",
       " 'plik2.txt']"
      ]
     },
     "execution_count": 29,
     "metadata": {},
     "output_type": "execute_result"
    }
   ],
   "source": [
    "os.listdir('pliki')"
   ]
  },
  {
   "cell_type": "markdown",
   "id": "7ddcf122-ea22-4855-9850-5c37eaf388a9",
   "metadata": {},
   "source": [
    "Przykład użycia:"
   ]
  },
  {
   "cell_type": "code",
   "execution_count": 30,
   "id": "f10fd075-dbf4-4857-910e-840906062cc5",
   "metadata": {},
   "outputs": [
    {
     "name": "stdout",
     "output_type": "stream",
     "text": [
      "Mam plik dane_001.csv\n",
      "Mam plik dane_002.csv\n",
      "Mam plik dane_003.csv\n",
      "Mam plik dane_004.csv\n",
      "Mam plik dane_005.csv\n",
      "Mam plik dane_006.csv\n",
      "Mam plik dane_007.csv\n",
      "Mam plik dane_008.csv\n",
      "Mam plik dane_009.csv\n",
      "Mam plik dane_010.csv\n",
      "Mam plik plik1.txt\n",
      "Mam plik plik2.txt\n"
     ]
    }
   ],
   "source": [
    "for plik in os.listdir('pliki'):\n",
    "    print(f'Mam plik {plik}')"
   ]
  },
  {
   "cell_type": "markdown",
   "id": "108e3628-84d7-4caa-8361-68f0aae4054a",
   "metadata": {},
   "source": [
    "`glob` - szukanie plików, które mają określone rozszerzenie (lub ogólnie - pasują do wzorca)."
   ]
  },
  {
   "cell_type": "code",
   "execution_count": 31,
   "id": "d508d099-dbbc-47a2-8092-3f267bd0e228",
   "metadata": {},
   "outputs": [],
   "source": [
    "import glob"
   ]
  },
  {
   "cell_type": "code",
   "execution_count": 32,
   "id": "a69c106e-4759-4127-9a5a-d1019f27c266",
   "metadata": {},
   "outputs": [
    {
     "data": {
      "text/plain": [
       "['pliki/dane_001.csv',\n",
       " 'pliki/dane_002.csv',\n",
       " 'pliki/dane_003.csv',\n",
       " 'pliki/dane_004.csv',\n",
       " 'pliki/dane_005.csv',\n",
       " 'pliki/dane_006.csv',\n",
       " 'pliki/dane_007.csv',\n",
       " 'pliki/dane_008.csv',\n",
       " 'pliki/dane_009.csv',\n",
       " 'pliki/dane_010.csv']"
      ]
     },
     "execution_count": 32,
     "metadata": {},
     "output_type": "execute_result"
    }
   ],
   "source": [
    "glob.glob('pliki/*.csv')"
   ]
  },
  {
   "cell_type": "markdown",
   "id": "8a73c5d2-21e1-4d4d-88ba-84eea2acc768",
   "metadata": {},
   "source": [
    "## Przykład czytania wielu plików\n",
    "\n",
    "W pętli czytamy wszystie pliki csv znalezione w katalogu i przykładowo obliczamy średnią wartość z kolumny wartość :)"
   ]
  },
  {
   "cell_type": "code",
   "execution_count": 33,
   "id": "193d8865-a553-4a4c-8a82-1ad9df5aee66",
   "metadata": {},
   "outputs": [],
   "source": [
    "suma = 0\n",
    "ile = 0\n",
    "\n",
    "for plik in glob.glob('pliki/*.csv'):\n",
    "    with open(plik, mode='r', encoding='UTF-8') as wejscie:\n",
    "        wejscie.readline() # pomijam wiersz z nagłówkami\n",
    "        for linia in wejscie:\n",
    "            t = linia.strip().split(',')\n",
    "            #print(t)\n",
    "            suma += float(t[3])\n",
    "            ile += 1\n",
    "\n",
    "srednia = suma / ile"
   ]
  },
  {
   "cell_type": "code",
   "execution_count": 34,
   "id": "fad966dc-61d5-4cfe-8c3c-b63782d6a63a",
   "metadata": {},
   "outputs": [
    {
     "data": {
      "text/plain": [
       "50.766070000000006"
      ]
     },
     "execution_count": 34,
     "metadata": {},
     "output_type": "execute_result"
    }
   ],
   "source": [
    "srednia"
   ]
  },
  {
   "cell_type": "markdown",
   "id": "d5e167b5-e41c-46c0-82b5-a70ad9d985ef",
   "metadata": {},
   "source": [
    "## Wczytanie wielu plików w Pandas i konkatenacja tabel\n",
    "\n",
    "Tworzymy listę nazw plików, które chcemy odczytać."
   ]
  },
  {
   "cell_type": "code",
   "execution_count": 35,
   "id": "d89e4660-c79f-4e5b-83e7-b41dc4125fc3",
   "metadata": {},
   "outputs": [],
   "source": [
    "import pandas as pd"
   ]
  },
  {
   "cell_type": "code",
   "execution_count": 36,
   "id": "f6fe9a7f-4c68-4915-ba93-95cdaa8d62e7",
   "metadata": {},
   "outputs": [],
   "source": [
    "lista_plikow = glob.glob('pliki/*.csv')"
   ]
  },
  {
   "cell_type": "markdown",
   "id": "ed01e0ad-f1c7-471d-84bd-8264a390fdd1",
   "metadata": {},
   "source": [
    "Dla znalezionych plików tworzymy w pamięci listę DataFrame'ów odczytanych z tych plików."
   ]
  },
  {
   "cell_type": "code",
   "execution_count": 37,
   "id": "5a4025d6-89a5-42f5-977d-7fbb7df15e9b",
   "metadata": {},
   "outputs": [],
   "source": [
    "lista_df = [pd.read_csv(plik, parse_dates=['data']) for plik in lista_plikow]"
   ]
  },
  {
   "cell_type": "code",
   "execution_count": 38,
   "id": "3dd5df67-644d-4c46-b284-ebd7de97fe14",
   "metadata": {},
   "outputs": [
    {
     "data": {
      "text/plain": [
       "10"
      ]
     },
     "execution_count": 38,
     "metadata": {},
     "output_type": "execute_result"
    }
   ],
   "source": [
    "len(lista_df)"
   ]
  },
  {
   "cell_type": "code",
   "execution_count": 39,
   "id": "81081d5b-32b0-47b8-a370-9f864d65fa21",
   "metadata": {},
   "outputs": [],
   "source": [
    "df0 = lista_df[0]"
   ]
  },
  {
   "cell_type": "code",
   "execution_count": 40,
   "id": "8e6e726d-f180-44c7-80f0-207ec38f6cfe",
   "metadata": {},
   "outputs": [
    {
     "data": {
      "text/html": [
       "<div>\n",
       "<style scoped>\n",
       "    .dataframe tbody tr th:only-of-type {\n",
       "        vertical-align: middle;\n",
       "    }\n",
       "\n",
       "    .dataframe tbody tr th {\n",
       "        vertical-align: top;\n",
       "    }\n",
       "\n",
       "    .dataframe thead th {\n",
       "        text-align: right;\n",
       "    }\n",
       "</style>\n",
       "<table border=\"1\" class=\"dataframe\">\n",
       "  <thead>\n",
       "    <tr style=\"text-align: right;\">\n",
       "      <th></th>\n",
       "      <th>nr</th>\n",
       "      <th>data</th>\n",
       "      <th>licznik</th>\n",
       "      <th>wartość</th>\n",
       "    </tr>\n",
       "  </thead>\n",
       "  <tbody>\n",
       "    <tr>\n",
       "      <th>0</th>\n",
       "      <td>0</td>\n",
       "      <td>2020-01-02</td>\n",
       "      <td>29</td>\n",
       "      <td>82.146</td>\n",
       "    </tr>\n",
       "    <tr>\n",
       "      <th>1</th>\n",
       "      <td>1</td>\n",
       "      <td>2020-01-02</td>\n",
       "      <td>59</td>\n",
       "      <td>73.228</td>\n",
       "    </tr>\n",
       "    <tr>\n",
       "      <th>2</th>\n",
       "      <td>2</td>\n",
       "      <td>2020-01-02</td>\n",
       "      <td>88</td>\n",
       "      <td>3.620</td>\n",
       "    </tr>\n",
       "    <tr>\n",
       "      <th>3</th>\n",
       "      <td>3</td>\n",
       "      <td>2020-01-02</td>\n",
       "      <td>15</td>\n",
       "      <td>52.303</td>\n",
       "    </tr>\n",
       "    <tr>\n",
       "      <th>4</th>\n",
       "      <td>4</td>\n",
       "      <td>2020-01-02</td>\n",
       "      <td>54</td>\n",
       "      <td>62.254</td>\n",
       "    </tr>\n",
       "    <tr>\n",
       "      <th>...</th>\n",
       "      <td>...</td>\n",
       "      <td>...</td>\n",
       "      <td>...</td>\n",
       "      <td>...</td>\n",
       "    </tr>\n",
       "    <tr>\n",
       "      <th>95</th>\n",
       "      <td>95</td>\n",
       "      <td>2020-01-02</td>\n",
       "      <td>18</td>\n",
       "      <td>66.238</td>\n",
       "    </tr>\n",
       "    <tr>\n",
       "      <th>96</th>\n",
       "      <td>96</td>\n",
       "      <td>2020-01-02</td>\n",
       "      <td>11</td>\n",
       "      <td>70.671</td>\n",
       "    </tr>\n",
       "    <tr>\n",
       "      <th>97</th>\n",
       "      <td>97</td>\n",
       "      <td>2020-01-02</td>\n",
       "      <td>94</td>\n",
       "      <td>82.566</td>\n",
       "    </tr>\n",
       "    <tr>\n",
       "      <th>98</th>\n",
       "      <td>98</td>\n",
       "      <td>2020-01-02</td>\n",
       "      <td>60</td>\n",
       "      <td>92.653</td>\n",
       "    </tr>\n",
       "    <tr>\n",
       "      <th>99</th>\n",
       "      <td>99</td>\n",
       "      <td>2020-01-02</td>\n",
       "      <td>67</td>\n",
       "      <td>87.517</td>\n",
       "    </tr>\n",
       "  </tbody>\n",
       "</table>\n",
       "<p>100 rows × 4 columns</p>\n",
       "</div>"
      ],
      "text/plain": [
       "    nr       data  licznik  wartość\n",
       "0    0 2020-01-02       29   82.146\n",
       "1    1 2020-01-02       59   73.228\n",
       "2    2 2020-01-02       88    3.620\n",
       "3    3 2020-01-02       15   52.303\n",
       "4    4 2020-01-02       54   62.254\n",
       "..  ..        ...      ...      ...\n",
       "95  95 2020-01-02       18   66.238\n",
       "96  96 2020-01-02       11   70.671\n",
       "97  97 2020-01-02       94   82.566\n",
       "98  98 2020-01-02       60   92.653\n",
       "99  99 2020-01-02       67   87.517\n",
       "\n",
       "[100 rows x 4 columns]"
      ]
     },
     "execution_count": 40,
     "metadata": {},
     "output_type": "execute_result"
    }
   ],
   "source": [
    "df0"
   ]
  },
  {
   "cell_type": "code",
   "execution_count": 41,
   "id": "eeabfc6e-b397-4103-a4d6-54149c2a1317",
   "metadata": {},
   "outputs": [
    {
     "data": {
      "text/plain": [
       "(100, 4)"
      ]
     },
     "execution_count": 41,
     "metadata": {},
     "output_type": "execute_result"
    }
   ],
   "source": [
    "df0.shape"
   ]
  },
  {
   "cell_type": "markdown",
   "id": "1f49fdd2-f52f-4b33-8f18-63b0b1a53a28",
   "metadata": {},
   "source": [
    "Budujemy DF, który będzie zawierał wszystkie części składowe."
   ]
  },
  {
   "cell_type": "code",
   "execution_count": 42,
   "id": "0e07cf81-0b6f-45c2-a5c4-8a9d10efa513",
   "metadata": {},
   "outputs": [],
   "source": [
    "df = pd.concat(lista_df)"
   ]
  },
  {
   "cell_type": "code",
   "execution_count": 43,
   "id": "efbded16-9c56-4461-bcf3-1d1e75dec003",
   "metadata": {},
   "outputs": [
    {
     "data": {
      "text/plain": [
       "(1000, 4)"
      ]
     },
     "execution_count": 43,
     "metadata": {},
     "output_type": "execute_result"
    }
   ],
   "source": [
    "df.shape"
   ]
  },
  {
   "cell_type": "code",
   "execution_count": 44,
   "id": "71a38abe-3ede-47c6-a06a-fdc442e63f2e",
   "metadata": {},
   "outputs": [
    {
     "data": {
      "text/html": [
       "<div>\n",
       "<style scoped>\n",
       "    .dataframe tbody tr th:only-of-type {\n",
       "        vertical-align: middle;\n",
       "    }\n",
       "\n",
       "    .dataframe tbody tr th {\n",
       "        vertical-align: top;\n",
       "    }\n",
       "\n",
       "    .dataframe thead th {\n",
       "        text-align: right;\n",
       "    }\n",
       "</style>\n",
       "<table border=\"1\" class=\"dataframe\">\n",
       "  <thead>\n",
       "    <tr style=\"text-align: right;\">\n",
       "      <th></th>\n",
       "      <th>nr</th>\n",
       "      <th>data</th>\n",
       "      <th>licznik</th>\n",
       "      <th>wartość</th>\n",
       "    </tr>\n",
       "  </thead>\n",
       "  <tbody>\n",
       "    <tr>\n",
       "      <th>0</th>\n",
       "      <td>0</td>\n",
       "      <td>2020-01-02</td>\n",
       "      <td>29</td>\n",
       "      <td>82.146</td>\n",
       "    </tr>\n",
       "    <tr>\n",
       "      <th>1</th>\n",
       "      <td>1</td>\n",
       "      <td>2020-01-02</td>\n",
       "      <td>59</td>\n",
       "      <td>73.228</td>\n",
       "    </tr>\n",
       "    <tr>\n",
       "      <th>2</th>\n",
       "      <td>2</td>\n",
       "      <td>2020-01-02</td>\n",
       "      <td>88</td>\n",
       "      <td>3.620</td>\n",
       "    </tr>\n",
       "    <tr>\n",
       "      <th>3</th>\n",
       "      <td>3</td>\n",
       "      <td>2020-01-02</td>\n",
       "      <td>15</td>\n",
       "      <td>52.303</td>\n",
       "    </tr>\n",
       "    <tr>\n",
       "      <th>4</th>\n",
       "      <td>4</td>\n",
       "      <td>2020-01-02</td>\n",
       "      <td>54</td>\n",
       "      <td>62.254</td>\n",
       "    </tr>\n",
       "    <tr>\n",
       "      <th>...</th>\n",
       "      <td>...</td>\n",
       "      <td>...</td>\n",
       "      <td>...</td>\n",
       "      <td>...</td>\n",
       "    </tr>\n",
       "    <tr>\n",
       "      <th>95</th>\n",
       "      <td>95</td>\n",
       "      <td>2020-01-02</td>\n",
       "      <td>80</td>\n",
       "      <td>81.368</td>\n",
       "    </tr>\n",
       "    <tr>\n",
       "      <th>96</th>\n",
       "      <td>96</td>\n",
       "      <td>2020-01-02</td>\n",
       "      <td>82</td>\n",
       "      <td>35.580</td>\n",
       "    </tr>\n",
       "    <tr>\n",
       "      <th>97</th>\n",
       "      <td>97</td>\n",
       "      <td>2020-01-02</td>\n",
       "      <td>42</td>\n",
       "      <td>28.711</td>\n",
       "    </tr>\n",
       "    <tr>\n",
       "      <th>98</th>\n",
       "      <td>98</td>\n",
       "      <td>2020-01-02</td>\n",
       "      <td>78</td>\n",
       "      <td>65.330</td>\n",
       "    </tr>\n",
       "    <tr>\n",
       "      <th>99</th>\n",
       "      <td>99</td>\n",
       "      <td>2020-01-02</td>\n",
       "      <td>13</td>\n",
       "      <td>28.655</td>\n",
       "    </tr>\n",
       "  </tbody>\n",
       "</table>\n",
       "<p>1000 rows × 4 columns</p>\n",
       "</div>"
      ],
      "text/plain": [
       "    nr       data  licznik  wartość\n",
       "0    0 2020-01-02       29   82.146\n",
       "1    1 2020-01-02       59   73.228\n",
       "2    2 2020-01-02       88    3.620\n",
       "3    3 2020-01-02       15   52.303\n",
       "4    4 2020-01-02       54   62.254\n",
       "..  ..        ...      ...      ...\n",
       "95  95 2020-01-02       80   81.368\n",
       "96  96 2020-01-02       82   35.580\n",
       "97  97 2020-01-02       42   28.711\n",
       "98  98 2020-01-02       78   65.330\n",
       "99  99 2020-01-02       13   28.655\n",
       "\n",
       "[1000 rows x 4 columns]"
      ]
     },
     "execution_count": 44,
     "metadata": {},
     "output_type": "execute_result"
    }
   ],
   "source": [
    "df"
   ]
  },
  {
   "cell_type": "markdown",
   "id": "405abf8b-9e8a-4209-a67a-c0b05a4a5185",
   "metadata": {},
   "source": [
    "Indeksy nie są teraz unikalne..."
   ]
  },
  {
   "cell_type": "code",
   "execution_count": 45,
   "id": "c0279f90-4d3e-4403-ae95-4068a59bfb28",
   "metadata": {},
   "outputs": [
    {
     "data": {
      "text/html": [
       "<div>\n",
       "<style scoped>\n",
       "    .dataframe tbody tr th:only-of-type {\n",
       "        vertical-align: middle;\n",
       "    }\n",
       "\n",
       "    .dataframe tbody tr th {\n",
       "        vertical-align: top;\n",
       "    }\n",
       "\n",
       "    .dataframe thead th {\n",
       "        text-align: right;\n",
       "    }\n",
       "</style>\n",
       "<table border=\"1\" class=\"dataframe\">\n",
       "  <thead>\n",
       "    <tr style=\"text-align: right;\">\n",
       "      <th></th>\n",
       "      <th>nr</th>\n",
       "      <th>data</th>\n",
       "      <th>licznik</th>\n",
       "      <th>wartość</th>\n",
       "    </tr>\n",
       "  </thead>\n",
       "  <tbody>\n",
       "    <tr>\n",
       "      <th>3</th>\n",
       "      <td>3</td>\n",
       "      <td>2020-01-02</td>\n",
       "      <td>15</td>\n",
       "      <td>52.303</td>\n",
       "    </tr>\n",
       "    <tr>\n",
       "      <th>3</th>\n",
       "      <td>3</td>\n",
       "      <td>2020-01-02</td>\n",
       "      <td>29</td>\n",
       "      <td>46.602</td>\n",
       "    </tr>\n",
       "    <tr>\n",
       "      <th>3</th>\n",
       "      <td>3</td>\n",
       "      <td>2020-01-02</td>\n",
       "      <td>12</td>\n",
       "      <td>30.970</td>\n",
       "    </tr>\n",
       "    <tr>\n",
       "      <th>3</th>\n",
       "      <td>3</td>\n",
       "      <td>2020-01-02</td>\n",
       "      <td>60</td>\n",
       "      <td>12.992</td>\n",
       "    </tr>\n",
       "    <tr>\n",
       "      <th>3</th>\n",
       "      <td>3</td>\n",
       "      <td>2020-01-02</td>\n",
       "      <td>20</td>\n",
       "      <td>16.997</td>\n",
       "    </tr>\n",
       "    <tr>\n",
       "      <th>3</th>\n",
       "      <td>3</td>\n",
       "      <td>2020-01-02</td>\n",
       "      <td>98</td>\n",
       "      <td>70.584</td>\n",
       "    </tr>\n",
       "    <tr>\n",
       "      <th>3</th>\n",
       "      <td>3</td>\n",
       "      <td>2020-01-02</td>\n",
       "      <td>97</td>\n",
       "      <td>91.297</td>\n",
       "    </tr>\n",
       "    <tr>\n",
       "      <th>3</th>\n",
       "      <td>3</td>\n",
       "      <td>2020-01-02</td>\n",
       "      <td>65</td>\n",
       "      <td>30.494</td>\n",
       "    </tr>\n",
       "    <tr>\n",
       "      <th>3</th>\n",
       "      <td>3</td>\n",
       "      <td>2020-01-02</td>\n",
       "      <td>93</td>\n",
       "      <td>68.585</td>\n",
       "    </tr>\n",
       "    <tr>\n",
       "      <th>3</th>\n",
       "      <td>3</td>\n",
       "      <td>2020-01-02</td>\n",
       "      <td>8</td>\n",
       "      <td>11.748</td>\n",
       "    </tr>\n",
       "  </tbody>\n",
       "</table>\n",
       "</div>"
      ],
      "text/plain": [
       "   nr       data  licznik  wartość\n",
       "3   3 2020-01-02       15   52.303\n",
       "3   3 2020-01-02       29   46.602\n",
       "3   3 2020-01-02       12   30.970\n",
       "3   3 2020-01-02       60   12.992\n",
       "3   3 2020-01-02       20   16.997\n",
       "3   3 2020-01-02       98   70.584\n",
       "3   3 2020-01-02       97   91.297\n",
       "3   3 2020-01-02       65   30.494\n",
       "3   3 2020-01-02       93   68.585\n",
       "3   3 2020-01-02        8   11.748"
      ]
     },
     "execution_count": 45,
     "metadata": {},
     "output_type": "execute_result"
    }
   ],
   "source": [
    "df.loc[3]"
   ]
  },
  {
   "cell_type": "code",
   "execution_count": 46,
   "id": "91f348a2-9268-4596-8aa7-2ce62ca3065b",
   "metadata": {},
   "outputs": [],
   "source": [
    "df.reset_index(inplace=True, drop=True)"
   ]
  },
  {
   "cell_type": "code",
   "execution_count": 47,
   "id": "c20ae5ae-da53-4387-9e2e-d0a9d4928ddd",
   "metadata": {},
   "outputs": [
    {
     "data": {
      "text/html": [
       "<div>\n",
       "<style scoped>\n",
       "    .dataframe tbody tr th:only-of-type {\n",
       "        vertical-align: middle;\n",
       "    }\n",
       "\n",
       "    .dataframe tbody tr th {\n",
       "        vertical-align: top;\n",
       "    }\n",
       "\n",
       "    .dataframe thead th {\n",
       "        text-align: right;\n",
       "    }\n",
       "</style>\n",
       "<table border=\"1\" class=\"dataframe\">\n",
       "  <thead>\n",
       "    <tr style=\"text-align: right;\">\n",
       "      <th></th>\n",
       "      <th>nr</th>\n",
       "      <th>data</th>\n",
       "      <th>licznik</th>\n",
       "      <th>wartość</th>\n",
       "    </tr>\n",
       "  </thead>\n",
       "  <tbody>\n",
       "    <tr>\n",
       "      <th>0</th>\n",
       "      <td>0</td>\n",
       "      <td>2020-01-02</td>\n",
       "      <td>29</td>\n",
       "      <td>82.146</td>\n",
       "    </tr>\n",
       "    <tr>\n",
       "      <th>1</th>\n",
       "      <td>1</td>\n",
       "      <td>2020-01-02</td>\n",
       "      <td>59</td>\n",
       "      <td>73.228</td>\n",
       "    </tr>\n",
       "    <tr>\n",
       "      <th>2</th>\n",
       "      <td>2</td>\n",
       "      <td>2020-01-02</td>\n",
       "      <td>88</td>\n",
       "      <td>3.620</td>\n",
       "    </tr>\n",
       "    <tr>\n",
       "      <th>3</th>\n",
       "      <td>3</td>\n",
       "      <td>2020-01-02</td>\n",
       "      <td>15</td>\n",
       "      <td>52.303</td>\n",
       "    </tr>\n",
       "    <tr>\n",
       "      <th>4</th>\n",
       "      <td>4</td>\n",
       "      <td>2020-01-02</td>\n",
       "      <td>54</td>\n",
       "      <td>62.254</td>\n",
       "    </tr>\n",
       "    <tr>\n",
       "      <th>...</th>\n",
       "      <td>...</td>\n",
       "      <td>...</td>\n",
       "      <td>...</td>\n",
       "      <td>...</td>\n",
       "    </tr>\n",
       "    <tr>\n",
       "      <th>995</th>\n",
       "      <td>95</td>\n",
       "      <td>2020-01-02</td>\n",
       "      <td>80</td>\n",
       "      <td>81.368</td>\n",
       "    </tr>\n",
       "    <tr>\n",
       "      <th>996</th>\n",
       "      <td>96</td>\n",
       "      <td>2020-01-02</td>\n",
       "      <td>82</td>\n",
       "      <td>35.580</td>\n",
       "    </tr>\n",
       "    <tr>\n",
       "      <th>997</th>\n",
       "      <td>97</td>\n",
       "      <td>2020-01-02</td>\n",
       "      <td>42</td>\n",
       "      <td>28.711</td>\n",
       "    </tr>\n",
       "    <tr>\n",
       "      <th>998</th>\n",
       "      <td>98</td>\n",
       "      <td>2020-01-02</td>\n",
       "      <td>78</td>\n",
       "      <td>65.330</td>\n",
       "    </tr>\n",
       "    <tr>\n",
       "      <th>999</th>\n",
       "      <td>99</td>\n",
       "      <td>2020-01-02</td>\n",
       "      <td>13</td>\n",
       "      <td>28.655</td>\n",
       "    </tr>\n",
       "  </tbody>\n",
       "</table>\n",
       "<p>1000 rows × 4 columns</p>\n",
       "</div>"
      ],
      "text/plain": [
       "     nr       data  licznik  wartość\n",
       "0     0 2020-01-02       29   82.146\n",
       "1     1 2020-01-02       59   73.228\n",
       "2     2 2020-01-02       88    3.620\n",
       "3     3 2020-01-02       15   52.303\n",
       "4     4 2020-01-02       54   62.254\n",
       "..   ..        ...      ...      ...\n",
       "995  95 2020-01-02       80   81.368\n",
       "996  96 2020-01-02       82   35.580\n",
       "997  97 2020-01-02       42   28.711\n",
       "998  98 2020-01-02       78   65.330\n",
       "999  99 2020-01-02       13   28.655\n",
       "\n",
       "[1000 rows x 4 columns]"
      ]
     },
     "execution_count": 47,
     "metadata": {},
     "output_type": "execute_result"
    }
   ],
   "source": [
    "df"
   ]
  },
  {
   "cell_type": "code",
   "execution_count": 48,
   "id": "751604dd-1f45-4673-b5b4-737b19f5182d",
   "metadata": {},
   "outputs": [
    {
     "data": {
      "text/plain": [
       "np.float64(50.76607)"
      ]
     },
     "execution_count": 48,
     "metadata": {},
     "output_type": "execute_result"
    }
   ],
   "source": [
    "df['wartość'].mean()"
   ]
  }
 ],
 "metadata": {
  "kernelspec": {
   "display_name": "Python 3 (ipykernel)",
   "language": "python",
   "name": "python3"
  },
  "language_info": {
   "codemirror_mode": {
    "name": "ipython",
    "version": 3
   },
   "file_extension": ".py",
   "mimetype": "text/x-python",
   "name": "python",
   "nbconvert_exporter": "python",
   "pygments_lexer": "ipython3",
   "version": "3.13.7"
  }
 },
 "nbformat": 4,
 "nbformat_minor": 5
}
